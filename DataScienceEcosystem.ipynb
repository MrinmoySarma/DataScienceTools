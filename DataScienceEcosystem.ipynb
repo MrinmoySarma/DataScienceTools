{
 "cells": [
  {
   "cell_type": "markdown",
   "id": "3c2365ef",
   "metadata": {},
   "source": [
    "# Data Science Tools and Ecosystem"
   ]
  },
  {
   "cell_type": "markdown",
   "id": "442f851a",
   "metadata": {},
   "source": [
    "# In this notebook, Data Science Tools and Ecosystem"
   ]
  },
  {
   "cell_type": "markdown",
   "id": "29671c49",
   "metadata": {},
   "source": [
    "**Objectives:**\n",
    "* Popular languages used by data scientists \n",
    "* Commonly used libraries in data science\n",
    "* Arithmetic expression in Python \n",
    "* Addition, division and multilpication in python "
   ]
  },
  {
   "cell_type": "markdown",
   "id": "c47ddc9c",
   "metadata": {},
   "source": [
    "## Some of the popular languages that Data Scientists use are: \n",
    "1. Python \n",
    "2. R\n",
    "3. SQL"
   ]
  },
  {
   "cell_type": "markdown",
   "id": "5f8d647c",
   "metadata": {},
   "source": [
    "## Some of the commonly used libraries used by Data Scientist include: \n",
    "1. Pandas \n",
    "2. Numpy \n",
    "3. Matplotlib\n",
    "4. Scikit-learn\n",
    "5. PyTorch"
   ]
  },
  {
   "cell_type": "markdown",
   "id": "11991d95",
   "metadata": {},
   "source": [
    "| Data Science Tools |\n",
    "| -------------------- |\n",
    "| Jupyter Notebook |\n",
    "| Jupyter Lab |\n",
    "| VS Code |\n",
    "| R Studio |"
   ]
  },
  {
   "cell_type": "markdown",
   "id": "ad7e4491",
   "metadata": {},
   "source": [
    "### Below are a few examples of evaluating arithmetic expression in Python"
   ]
  },
  {
   "cell_type": "code",
   "execution_count": 11,
   "id": "87cbb10b",
   "metadata": {},
   "outputs": [
    {
     "data": {
      "text/plain": [
       "17"
      ]
     },
     "execution_count": 11,
     "metadata": {},
     "output_type": "execute_result"
    }
   ],
   "source": [
    "#This a simple arithmetic expression to mutiply then add integers\n",
    "(3*4)+5"
   ]
  },
  {
   "cell_type": "code",
   "execution_count": 10,
   "id": "01872ac9",
   "metadata": {},
   "outputs": [
    {
     "data": {
      "text/plain": [
       "3.3333333333333335"
      ]
     },
     "execution_count": 10,
     "metadata": {},
     "output_type": "execute_result"
    }
   ],
   "source": [
    "#This will convert 200 minutes to hours by diving by 60\n",
    "200/60"
   ]
  },
  {
   "cell_type": "markdown",
   "id": "5e062658",
   "metadata": {},
   "source": [
    "## Author\n",
    "Mrinmoy Sarma"
   ]
  },
  {
   "cell_type": "code",
   "execution_count": null,
   "id": "bcfe5c26",
   "metadata": {},
   "outputs": [],
   "source": []
  }
 ],
 "metadata": {
  "kernelspec": {
   "display_name": "Python 3 (ipykernel)",
   "language": "python",
   "name": "python3"
  },
  "language_info": {
   "codemirror_mode": {
    "name": "ipython",
    "version": 3
   },
   "file_extension": ".py",
   "mimetype": "text/x-python",
   "name": "python",
   "nbconvert_exporter": "python",
   "pygments_lexer": "ipython3",
   "version": "3.11.7"
  }
 },
 "nbformat": 4,
 "nbformat_minor": 5
}
